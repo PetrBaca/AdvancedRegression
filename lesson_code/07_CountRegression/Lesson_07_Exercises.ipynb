{
 "cells": [
  {
   "cell_type": "markdown",
   "id": "7ffec086-69de-4c82-ba74-41aed79932a3",
   "metadata": {
    "slideshow": {
     "slide_type": "slide"
    }
   },
   "source": [
    "# Count Model Regression Exercises"
   ]
  },
  {
   "cell_type": "code",
   "execution_count": 1,
   "id": "0ad8b5de-d7f0-43f4-9490-13ae13a3ec23",
   "metadata": {
    "hideCode": false,
    "hidePrompt": false,
    "slideshow": {
     "slide_type": "skip"
    }
   },
   "outputs": [],
   "source": [
    "import arviz as az\n",
    "import bambi as bmb\n",
    "import matplotlib as mpl\n",
    "import matplotlib.pyplot as plt\n",
    "import numpy as np\n",
    "import pandas as pd\n",
    "import pymc as pm\n",
    "import seaborn as sns\n",
    "from scipy import stats"
   ]
  },
  {
   "cell_type": "code",
   "execution_count": 2,
   "id": "bf510bc7-62c9-437e-9f82-a5fbb53f4bcc",
   "metadata": {
    "hideCode": false,
    "hidePrompt": false,
    "slideshow": {
     "slide_type": "skip"
    }
   },
   "outputs": [],
   "source": [
    "plt.style.use(\"intuitivebayes.mplstyle\")\n",
    "\n",
    "mpl.rcParams[\"figure.dpi\"] = 120\n",
    "mpl.rcParams[\"figure.facecolor\"] = \"white\"\n",
    "mpl.rcParams[\"axes.spines.left\"] = False"
   ]
  },
  {
   "cell_type": "markdown",
   "id": "1ce25d20",
   "metadata": {},
   "source": [
    "# Exercise 1: Transformation and Model Intuition [Easy]\n",
    "\n",
    "Messing up the order of non linear transformations can lead to wrong answers all too easily. I know because I did this during writing this.\n",
    "\n",
    "In this exercise were going to work through transformations outside of a model to ensure the difference is clear. we then are going to run a parameter recovery study, implementing models in both PyMC and Bambi to ensure we have an end to end understanding of everything that is going on."
   ]
  },
  {
   "cell_type": "markdown",
   "id": "b04b059f",
   "metadata": {},
   "source": [
    "## 1a: Show that the for a random vector show that `np.exp(mean(x)) != mean(np.exp))`"
   ]
  },
  {
   "cell_type": "code",
   "execution_count": 3,
   "id": "d8f1ed96",
   "metadata": {},
   "outputs": [],
   "source": [
    "x = np.random.normal(size=1000)"
   ]
  },
  {
   "cell_type": "markdown",
   "id": "b42dadf0",
   "metadata": {},
   "source": [
    "## 1b: Build a Poisson model in PyMC to estimate our known parameters\n",
    "\n",
    "We're going to do a parameter recovery and prediction verification. Doing this end to end will ensure you're getting every step correct, and especially the transformation steps above correct as it can be easy or tempting to make a mistake.\n",
    "\n",
    "Specifically we want two things an az.summary table showing the estimated parameters, which we than can compare with the fixed parameters we used for data generation"
   ]
  },
  {
   "cell_type": "code",
   "execution_count": 4,
   "id": "1882a9d9",
   "metadata": {},
   "outputs": [],
   "source": [
    "# Parameters to recover\n",
    "intercept = 0.3\n",
    "slope = 0.7\n",
    "categorical_effect = 0.5\n",
    "\n",
    "# Random Observations. We create many so out sampler has the best chance of recovering the final value\n",
    "x = stats.uniform(-1, 1).rvs(22345)\n",
    "categorical_indicator = stats.bernoulli(p=0.7).rvs(22345)\n",
    "\n",
    "# Data Generating Process\n",
    "mu = slope * x + categorical_indicator * categorical_effect + intercept\n",
    "lamda = np.exp(mu)\n",
    "y = stats.poisson(lamda).rvs()"
   ]
  },
  {
   "cell_type": "code",
   "execution_count": 5,
   "id": "0eeb93ad",
   "metadata": {},
   "outputs": [
    {
     "data": {
      "text/html": [
       "<div>\n",
       "<style scoped>\n",
       "    .dataframe tbody tr th:only-of-type {\n",
       "        vertical-align: middle;\n",
       "    }\n",
       "\n",
       "    .dataframe tbody tr th {\n",
       "        vertical-align: top;\n",
       "    }\n",
       "\n",
       "    .dataframe thead th {\n",
       "        text-align: right;\n",
       "    }\n",
       "</style>\n",
       "<table border=\"1\" class=\"dataframe\">\n",
       "  <thead>\n",
       "    <tr style=\"text-align: right;\">\n",
       "      <th></th>\n",
       "      <th>x</th>\n",
       "      <th>categorical</th>\n",
       "      <th>y</th>\n",
       "    </tr>\n",
       "  </thead>\n",
       "  <tbody>\n",
       "    <tr>\n",
       "      <th>0</th>\n",
       "      <td>-0.686799</td>\n",
       "      <td>1</td>\n",
       "      <td>0</td>\n",
       "    </tr>\n",
       "    <tr>\n",
       "      <th>1</th>\n",
       "      <td>-0.892180</td>\n",
       "      <td>1</td>\n",
       "      <td>2</td>\n",
       "    </tr>\n",
       "    <tr>\n",
       "      <th>2</th>\n",
       "      <td>-0.603081</td>\n",
       "      <td>1</td>\n",
       "      <td>0</td>\n",
       "    </tr>\n",
       "    <tr>\n",
       "      <th>3</th>\n",
       "      <td>-0.159841</td>\n",
       "      <td>0</td>\n",
       "      <td>1</td>\n",
       "    </tr>\n",
       "    <tr>\n",
       "      <th>4</th>\n",
       "      <td>-0.259965</td>\n",
       "      <td>1</td>\n",
       "      <td>1</td>\n",
       "    </tr>\n",
       "  </tbody>\n",
       "</table>\n",
       "</div>"
      ],
      "text/plain": [
       "          x categorical  y\n",
       "0 -0.686799           1  0\n",
       "1 -0.892180           1  2\n",
       "2 -0.603081           1  0\n",
       "3 -0.159841           0  1\n",
       "4 -0.259965           1  1"
      ]
     },
     "execution_count": 5,
     "metadata": {},
     "output_type": "execute_result"
    }
   ],
   "source": [
    "data = pd.DataFrame({\"x\": x, \"categorical\": categorical_indicator, \"y\": y})\n",
    "data[\"categorical\"] = pd.Categorical(data[\"categorical\"])\n",
    "data.head()"
   ]
  },
  {
   "cell_type": "markdown",
   "id": "6257eb4d",
   "metadata": {},
   "source": [
    "With the data loaded let's write a PyMC model that takes into account the X input, the categorical indicator, and includes an intercept as well."
   ]
  },
  {
   "cell_type": "code",
   "execution_count": null,
   "id": "4511b859-ed8e-4e27-8dfb-c7c2b8ab0f5d",
   "metadata": {},
   "outputs": [],
   "source": [
    "# Insert model here"
   ]
  },
  {
   "cell_type": "markdown",
   "id": "39cd5443",
   "metadata": {},
   "source": [
    "Great! We got a model that largely estimates the input parameters."
   ]
  },
  {
   "cell_type": "markdown",
   "id": "58e82051",
   "metadata": {},
   "source": [
    "## 1c: Build a Poisson model in Bambi to estimate our known parameters\n",
    "Let's now do the same with Bambi to see what we get."
   ]
  },
  {
   "cell_type": "code",
   "execution_count": 41,
   "id": "473c11b4",
   "metadata": {},
   "outputs": [],
   "source": [
    "# Build your bambi model here"
   ]
  },
  {
   "cell_type": "markdown",
   "id": "503298d2",
   "metadata": {},
   "source": [
    "After inference we get results similar to the PyMC model. As expected Bambi automatically adds the intercept detects the categorical variable correctly. estimating the \"1\" level."
   ]
  },
  {
   "cell_type": "markdown",
   "id": "aad786e3",
   "metadata": {},
   "source": [
    "## 1d: Estimate the Poisson distribution at a fixed inputs value \"by hand\", with Bambi and posterior samples\n",
    "We'll used the fixed values, where x is set a particular float value, and we include the categorical effect as well\n",
    "\n",
    "You'll need to do three things here\n",
    "* Simulate the expected Poisson distributions at fixed values of x and categorical indicators by hand\n",
    "* Use PyMC posterior predictive functionality to show what the same estimate would be\n",
    "* Use the Bambi predict functionality to generate a posterior predictive to show what the same estimate would be\n",
    "\n",
    "The output were looking for is three plots, one that shows \"true\" Poisson distribution, one showing the PyMC estimate, and one showing the Bambi estimate"
   ]
  },
  {
   "cell_type": "code",
   "execution_count": 46,
   "id": "38a9caf7",
   "metadata": {},
   "outputs": [
    {
     "data": {
      "text/html": [
       "<div>\n",
       "<style scoped>\n",
       "    .dataframe tbody tr th:only-of-type {\n",
       "        vertical-align: middle;\n",
       "    }\n",
       "\n",
       "    .dataframe tbody tr th {\n",
       "        vertical-align: top;\n",
       "    }\n",
       "\n",
       "    .dataframe thead th {\n",
       "        text-align: right;\n",
       "    }\n",
       "</style>\n",
       "<table border=\"1\" class=\"dataframe\">\n",
       "  <thead>\n",
       "    <tr style=\"text-align: right;\">\n",
       "      <th></th>\n",
       "      <th>x</th>\n",
       "      <th>categorical</th>\n",
       "    </tr>\n",
       "  </thead>\n",
       "  <tbody>\n",
       "    <tr>\n",
       "      <th>0</th>\n",
       "      <td>5</td>\n",
       "      <td>1</td>\n",
       "    </tr>\n",
       "  </tbody>\n",
       "</table>\n",
       "</div>"
      ],
      "text/plain": [
       "   x categorical\n",
       "0  5           1"
      ]
     },
     "execution_count": 46,
     "metadata": {},
     "output_type": "execute_result"
    }
   ],
   "source": [
    "# Here we provide the values for you\n",
    "x_new = 5\n",
    "categorical_indicator_new = 1\n",
    "data_new = pd.DataFrame({\"x\": [x_new], \"categorical\": [categorical_indicator_new]})\n",
    "data_new[\"categorical\"] = pd.Categorical(data_new[\"categorical\"])\n",
    "\n",
    "data_new"
   ]
  },
  {
   "cell_type": "code",
   "execution_count": 47,
   "id": "7d5a4285",
   "metadata": {},
   "outputs": [],
   "source": [
    "# Simulate the data manually"
   ]
  },
  {
   "cell_type": "markdown",
   "id": "7cb0d58a",
   "metadata": {},
   "source": [
    "Calculate mu and lambda here. These are our \"true deterministics\" that we will be estimating later with PyMC and bambi. After getting. those plot the observed distribution of y_manual as well."
   ]
  },
  {
   "cell_type": "code",
   "execution_count": null,
   "id": "c17701df-e78a-458c-bc07-5ce6d33053d8",
   "metadata": {},
   "outputs": [],
   "source": []
  },
  {
   "cell_type": "markdown",
   "id": "88197dae",
   "metadata": {},
   "source": [
    "This is our \"true\" expected Poisson distribution from the data generating process. Note that it roughly ranges from 119 to 183, a range we'll reference later."
   ]
  },
  {
   "cell_type": "code",
   "execution_count": null,
   "id": "0a60e7c0-ea85-4185-9556-8c9f61642e04",
   "metadata": {},
   "outputs": [],
   "source": []
  },
  {
   "cell_type": "markdown",
   "id": "59afe54d",
   "metadata": {},
   "source": [
    "Let's now estimate our expected Try using `az.summary`, then try from the samples directly`"
   ]
  },
  {
   "cell_type": "code",
   "execution_count": null,
   "id": "2428d855-de79-43f8-973b-336f33d5de67",
   "metadata": {},
   "outputs": [],
   "source": []
  },
  {
   "cell_type": "markdown",
   "id": "f4160ec1",
   "metadata": {},
   "source": [
    "Let's now estimate the same using Bambi's predict functionality.  We wont inspect the samples for the parameters again as part of this exercise, though you can do so yourself to verify they match the samples from PyMC."
   ]
  },
  {
   "cell_type": "code",
   "execution_count": null,
   "id": "fa167946-af4d-4a56-8431-4f5c87483f6a",
   "metadata": {},
   "outputs": [],
   "source": []
  },
  {
   "cell_type": "markdown",
   "id": "2ab7c6bb",
   "metadata": {},
   "source": [
    "# Exercise 2: More football analytics\n",
    "We're going to reanalyze the football data. We've already looked at the data a couple of ways but perhaps there's more. Let's load the data first before we move onto the questions."
   ]
  },
  {
   "cell_type": "code",
   "execution_count": 31,
   "id": "9ceaa088",
   "metadata": {},
   "outputs": [
    {
     "data": {
      "text/html": [
       "<div>\n",
       "<style scoped>\n",
       "    .dataframe tbody tr th:only-of-type {\n",
       "        vertical-align: middle;\n",
       "    }\n",
       "\n",
       "    .dataframe tbody tr th {\n",
       "        vertical-align: top;\n",
       "    }\n",
       "\n",
       "    .dataframe thead th {\n",
       "        text-align: right;\n",
       "    }\n",
       "</style>\n",
       "<table border=\"1\" class=\"dataframe\">\n",
       "  <thead>\n",
       "    <tr style=\"text-align: right;\">\n",
       "      <th></th>\n",
       "      <th>Div</th>\n",
       "      <th>Date</th>\n",
       "      <th>HomeTeam</th>\n",
       "      <th>AwayTeam</th>\n",
       "      <th>FTHG</th>\n",
       "      <th>FTAG</th>\n",
       "      <th>FTR</th>\n",
       "      <th>HTHG</th>\n",
       "      <th>HTAG</th>\n",
       "      <th>HTR</th>\n",
       "      <th>...</th>\n",
       "      <th>BbAv&lt;2.5</th>\n",
       "      <th>BbAH</th>\n",
       "      <th>BbAHh</th>\n",
       "      <th>BbMxAHH</th>\n",
       "      <th>BbAvAHH</th>\n",
       "      <th>BbMxAHA</th>\n",
       "      <th>BbAvAHA</th>\n",
       "      <th>PSCH</th>\n",
       "      <th>PSCD</th>\n",
       "      <th>PSCA</th>\n",
       "    </tr>\n",
       "  </thead>\n",
       "  <tbody>\n",
       "    <tr>\n",
       "      <th>0</th>\n",
       "      <td>E0</td>\n",
       "      <td>11/08/17</td>\n",
       "      <td>Arsenal</td>\n",
       "      <td>Leicester</td>\n",
       "      <td>4</td>\n",
       "      <td>3</td>\n",
       "      <td>H</td>\n",
       "      <td>2</td>\n",
       "      <td>2</td>\n",
       "      <td>D</td>\n",
       "      <td>...</td>\n",
       "      <td>2.32</td>\n",
       "      <td>21</td>\n",
       "      <td>-1.00</td>\n",
       "      <td>1.91</td>\n",
       "      <td>1.85</td>\n",
       "      <td>2.10</td>\n",
       "      <td>2.02</td>\n",
       "      <td>1.49</td>\n",
       "      <td>4.73</td>\n",
       "      <td>7.25</td>\n",
       "    </tr>\n",
       "    <tr>\n",
       "      <th>1</th>\n",
       "      <td>E0</td>\n",
       "      <td>12/08/17</td>\n",
       "      <td>Brighton</td>\n",
       "      <td>Man City</td>\n",
       "      <td>0</td>\n",
       "      <td>2</td>\n",
       "      <td>A</td>\n",
       "      <td>0</td>\n",
       "      <td>0</td>\n",
       "      <td>D</td>\n",
       "      <td>...</td>\n",
       "      <td>2.27</td>\n",
       "      <td>20</td>\n",
       "      <td>1.50</td>\n",
       "      <td>1.95</td>\n",
       "      <td>1.91</td>\n",
       "      <td>2.01</td>\n",
       "      <td>1.96</td>\n",
       "      <td>11.75</td>\n",
       "      <td>6.15</td>\n",
       "      <td>1.29</td>\n",
       "    </tr>\n",
       "    <tr>\n",
       "      <th>2</th>\n",
       "      <td>E0</td>\n",
       "      <td>12/08/17</td>\n",
       "      <td>Chelsea</td>\n",
       "      <td>Burnley</td>\n",
       "      <td>2</td>\n",
       "      <td>3</td>\n",
       "      <td>A</td>\n",
       "      <td>0</td>\n",
       "      <td>3</td>\n",
       "      <td>A</td>\n",
       "      <td>...</td>\n",
       "      <td>2.23</td>\n",
       "      <td>20</td>\n",
       "      <td>-1.75</td>\n",
       "      <td>2.03</td>\n",
       "      <td>1.97</td>\n",
       "      <td>1.95</td>\n",
       "      <td>1.90</td>\n",
       "      <td>1.33</td>\n",
       "      <td>5.40</td>\n",
       "      <td>12.25</td>\n",
       "    </tr>\n",
       "    <tr>\n",
       "      <th>3</th>\n",
       "      <td>E0</td>\n",
       "      <td>12/08/17</td>\n",
       "      <td>Crystal Palace</td>\n",
       "      <td>Huddersfield</td>\n",
       "      <td>0</td>\n",
       "      <td>3</td>\n",
       "      <td>A</td>\n",
       "      <td>0</td>\n",
       "      <td>2</td>\n",
       "      <td>A</td>\n",
       "      <td>...</td>\n",
       "      <td>1.72</td>\n",
       "      <td>18</td>\n",
       "      <td>-0.75</td>\n",
       "      <td>2.10</td>\n",
       "      <td>2.05</td>\n",
       "      <td>1.86</td>\n",
       "      <td>1.83</td>\n",
       "      <td>1.79</td>\n",
       "      <td>3.56</td>\n",
       "      <td>5.51</td>\n",
       "    </tr>\n",
       "    <tr>\n",
       "      <th>4</th>\n",
       "      <td>E0</td>\n",
       "      <td>12/08/17</td>\n",
       "      <td>Everton</td>\n",
       "      <td>Stoke</td>\n",
       "      <td>1</td>\n",
       "      <td>0</td>\n",
       "      <td>H</td>\n",
       "      <td>1</td>\n",
       "      <td>0</td>\n",
       "      <td>H</td>\n",
       "      <td>...</td>\n",
       "      <td>1.76</td>\n",
       "      <td>19</td>\n",
       "      <td>-0.75</td>\n",
       "      <td>1.94</td>\n",
       "      <td>1.90</td>\n",
       "      <td>2.01</td>\n",
       "      <td>1.98</td>\n",
       "      <td>1.82</td>\n",
       "      <td>3.49</td>\n",
       "      <td>5.42</td>\n",
       "    </tr>\n",
       "  </tbody>\n",
       "</table>\n",
       "<p>5 rows × 65 columns</p>\n",
       "</div>"
      ],
      "text/plain": [
       "  Div      Date        HomeTeam      AwayTeam  FTHG  FTAG FTR  HTHG  HTAG HTR  \\\n",
       "0  E0  11/08/17         Arsenal     Leicester     4     3   H     2     2   D   \n",
       "1  E0  12/08/17        Brighton      Man City     0     2   A     0     0   D   \n",
       "2  E0  12/08/17         Chelsea       Burnley     2     3   A     0     3   A   \n",
       "3  E0  12/08/17  Crystal Palace  Huddersfield     0     3   A     0     2   A   \n",
       "4  E0  12/08/17         Everton         Stoke     1     0   H     1     0   H   \n",
       "\n",
       "   ... BbAv<2.5  BbAH  BbAHh  BbMxAHH  BbAvAHH  BbMxAHA  BbAvAHA   PSCH  PSCD  \\\n",
       "0  ...     2.32    21  -1.00     1.91     1.85     2.10     2.02   1.49  4.73   \n",
       "1  ...     2.27    20   1.50     1.95     1.91     2.01     1.96  11.75  6.15   \n",
       "2  ...     2.23    20  -1.75     2.03     1.97     1.95     1.90   1.33  5.40   \n",
       "3  ...     1.72    18  -0.75     2.10     2.05     1.86     1.83   1.79  3.56   \n",
       "4  ...     1.76    19  -0.75     1.94     1.90     2.01     1.98   1.82  3.49   \n",
       "\n",
       "    PSCA  \n",
       "0   7.25  \n",
       "1   1.29  \n",
       "2  12.25  \n",
       "3   5.51  \n",
       "4   5.42  \n",
       "\n",
       "[5 rows x 65 columns]"
      ]
     },
     "execution_count": 31,
     "metadata": {},
     "output_type": "execute_result"
    }
   ],
   "source": [
    "df = pd.read_csv(\"data/season-1718_csv.csv\")\n",
    "df.head()"
   ]
  },
  {
   "cell_type": "code",
   "execution_count": 32,
   "id": "59a4a279",
   "metadata": {},
   "outputs": [],
   "source": [
    "df.rename({\"FTHG\": \"GoalsHome\", \"FTAG\": \"GoalsAway\"}, axis=1, inplace=True)\n",
    "\n",
    "df[\"Date\"] = pd.to_datetime(df[\"Date\"], format=\"%d/%m/%y\")\n",
    "first_game = df[\"Date\"].min()\n",
    "df[\"Days_Since_First_Game\"] = (df[\"Date\"] - first_game).dt.days\n",
    "\n",
    "df = df.iloc[:, [2, 3, 4, 5, -1]]"
   ]
  },
  {
   "cell_type": "code",
   "execution_count": 33,
   "id": "bc9f3920",
   "metadata": {},
   "outputs": [
    {
     "data": {
      "text/html": [
       "<div>\n",
       "<style scoped>\n",
       "    .dataframe tbody tr th:only-of-type {\n",
       "        vertical-align: middle;\n",
       "    }\n",
       "\n",
       "    .dataframe tbody tr th {\n",
       "        vertical-align: top;\n",
       "    }\n",
       "\n",
       "    .dataframe thead th {\n",
       "        text-align: right;\n",
       "    }\n",
       "</style>\n",
       "<table border=\"1\" class=\"dataframe\">\n",
       "  <thead>\n",
       "    <tr style=\"text-align: right;\">\n",
       "      <th></th>\n",
       "      <th>Team</th>\n",
       "      <th>Goals</th>\n",
       "      <th>Days_Since_First_Game</th>\n",
       "      <th>GameType</th>\n",
       "    </tr>\n",
       "  </thead>\n",
       "  <tbody>\n",
       "    <tr>\n",
       "      <th>0</th>\n",
       "      <td>Arsenal</td>\n",
       "      <td>4</td>\n",
       "      <td>302</td>\n",
       "      <td>Home</td>\n",
       "    </tr>\n",
       "    <tr>\n",
       "      <th>1</th>\n",
       "      <td>Brighton</td>\n",
       "      <td>0</td>\n",
       "      <td>332</td>\n",
       "      <td>Home</td>\n",
       "    </tr>\n",
       "    <tr>\n",
       "      <th>2</th>\n",
       "      <td>Chelsea</td>\n",
       "      <td>2</td>\n",
       "      <td>332</td>\n",
       "      <td>Home</td>\n",
       "    </tr>\n",
       "    <tr>\n",
       "      <th>3</th>\n",
       "      <td>Crystal Palace</td>\n",
       "      <td>0</td>\n",
       "      <td>332</td>\n",
       "      <td>Home</td>\n",
       "    </tr>\n",
       "    <tr>\n",
       "      <th>4</th>\n",
       "      <td>Everton</td>\n",
       "      <td>1</td>\n",
       "      <td>332</td>\n",
       "      <td>Home</td>\n",
       "    </tr>\n",
       "  </tbody>\n",
       "</table>\n",
       "</div>"
      ],
      "text/plain": [
       "             Team  Goals  Days_Since_First_Game GameType\n",
       "0         Arsenal      4                    302     Home\n",
       "1        Brighton      0                    332     Home\n",
       "2         Chelsea      2                    332     Home\n",
       "3  Crystal Palace      0                    332     Home\n",
       "4         Everton      1                    332     Home"
      ]
     },
     "execution_count": 33,
     "metadata": {},
     "output_type": "execute_result"
    }
   ],
   "source": [
    "home_goals = (\n",
    "    df[[\"HomeTeam\", \"GoalsHome\", \"Days_Since_First_Game\"]]\n",
    "    .assign(GameType=\"Home\")\n",
    "    .rename({\"HomeTeam\": \"Team\", \"GoalsHome\": \"Goals\"}, axis=1)\n",
    ")\n",
    "away_goals = (\n",
    "    df[[\"AwayTeam\", \"GoalsAway\", \"Days_Since_First_Game\"]]\n",
    "    .assign(GameType=\"Away\")\n",
    "    .rename({\"AwayTeam\": \"Team\", \"GoalsAway\": \"Goals\"}, axis=1)\n",
    ")\n",
    "\n",
    "long_df = pd.concat([home_goals, away_goals], axis=0)\n",
    "long_df.head()"
   ]
  },
  {
   "cell_type": "markdown",
   "id": "6bbaa915",
   "metadata": {},
   "source": [
    "## 2a: Revisiting home versus away effect\n",
    "Look back at Premiere League data. Let's answer the following questions.\n",
    "* Did we use a shared parameter for the effect for all teams when estimating the home and away effect?\n",
    "* Was the estimated effect the same size for all teams?\n",
    "\n",
    "This exercise does not require any code, just referencing the lesson and thinking through the answer"
   ]
  },
  {
   "cell_type": "markdown",
   "id": "89b364ae",
   "metadata": {},
   "source": [
    "**Write your answer here**"
   ]
  },
  {
   "cell_type": "markdown",
   "id": "75de782b-ba23-4458-8238-f78a8dd14ddc",
   "metadata": {},
   "source": [
    "## 2b: Estimating a home vs away effect per team\n",
    "\n",
    "Now, actually extend the Bambi model from the lesson, but with one home effect _per_ team, not one home effect for all the teams."
   ]
  },
  {
   "cell_type": "code",
   "execution_count": 40,
   "id": "77728874-f478-4675-8e32-fe2c64aee592",
   "metadata": {},
   "outputs": [],
   "source": [
    "# Insert Bambi Model here"
   ]
  },
  {
   "cell_type": "markdown",
   "id": "e7b47e55-54a8-4160-b7da-bdc9ec677cc8",
   "metadata": {},
   "source": [
    "## 2c: Estimating a home vs away effect per team\n",
    "\n",
    "Let's now ask another question: **Does team performance drop over a season?** For this model we want a `Days_Since_First_Game` effect per team and an intercept per team.\n",
    "\n",
    "Start with Manchester City and estimate the slope and intercept for that first. Check for converge and parameter estimations there first.\n",
    "Then expand to all teams. Use Bambi for both models.\n",
    "\n",
    "_Hint: if you run into any issues for the all-teams model, think about the scale of `Days_Since_First_Game`. Anything there that might cause issues?_"
   ]
  },
  {
   "cell_type": "markdown",
   "id": "a7e985c2-b472-4e76-8054-3b9a4f0fa5f0",
   "metadata": {},
   "source": [
    "### Man City Model"
   ]
  },
  {
   "cell_type": "code",
   "execution_count": 40,
   "id": "1d443359-448c-41e8-9c1b-55f0baf01e02",
   "metadata": {},
   "outputs": [],
   "source": [
    "# Insert Bambi Model here"
   ]
  },
  {
   "cell_type": "markdown",
   "id": "90e54c31-9498-4984-b402-b0ce81f06515",
   "metadata": {},
   "source": [
    "### All teams"
   ]
  },
  {
   "cell_type": "code",
   "execution_count": 40,
   "id": "3a79d2cb-123e-4676-b595-2b5457d20198",
   "metadata": {},
   "outputs": [],
   "source": [
    "# Insert Bambi Model here"
   ]
  },
  {
   "cell_type": "markdown",
   "id": "0342daed",
   "metadata": {},
   "source": [
    "# Exercise 3: Rewriting the fishing model [Hard]\n",
    "We're going to extend the fishing data. Let's start by loading in the data again."
   ]
  },
  {
   "cell_type": "code",
   "execution_count": 4,
   "id": "79594662",
   "metadata": {},
   "outputs": [
    {
     "data": {
      "text/html": [
       "<div>\n",
       "<style scoped>\n",
       "    .dataframe tbody tr th:only-of-type {\n",
       "        vertical-align: middle;\n",
       "    }\n",
       "\n",
       "    .dataframe tbody tr th {\n",
       "        vertical-align: top;\n",
       "    }\n",
       "\n",
       "    .dataframe thead th {\n",
       "        text-align: right;\n",
       "    }\n",
       "</style>\n",
       "<table border=\"1\" class=\"dataframe\">\n",
       "  <thead>\n",
       "    <tr style=\"text-align: right;\">\n",
       "      <th></th>\n",
       "      <th>count</th>\n",
       "      <th>livebait</th>\n",
       "      <th>camper</th>\n",
       "      <th>persons</th>\n",
       "      <th>child</th>\n",
       "    </tr>\n",
       "  </thead>\n",
       "  <tbody>\n",
       "    <tr>\n",
       "      <th>0</th>\n",
       "      <td>0.0</td>\n",
       "      <td>0.0</td>\n",
       "      <td>0.0</td>\n",
       "      <td>1.0</td>\n",
       "      <td>0.0</td>\n",
       "    </tr>\n",
       "    <tr>\n",
       "      <th>1</th>\n",
       "      <td>0.0</td>\n",
       "      <td>1.0</td>\n",
       "      <td>1.0</td>\n",
       "      <td>1.0</td>\n",
       "      <td>0.0</td>\n",
       "    </tr>\n",
       "    <tr>\n",
       "      <th>2</th>\n",
       "      <td>0.0</td>\n",
       "      <td>1.0</td>\n",
       "      <td>0.0</td>\n",
       "      <td>1.0</td>\n",
       "      <td>0.0</td>\n",
       "    </tr>\n",
       "    <tr>\n",
       "      <th>3</th>\n",
       "      <td>0.0</td>\n",
       "      <td>1.0</td>\n",
       "      <td>1.0</td>\n",
       "      <td>2.0</td>\n",
       "      <td>1.0</td>\n",
       "    </tr>\n",
       "    <tr>\n",
       "      <th>4</th>\n",
       "      <td>1.0</td>\n",
       "      <td>1.0</td>\n",
       "      <td>0.0</td>\n",
       "      <td>1.0</td>\n",
       "      <td>0.0</td>\n",
       "    </tr>\n",
       "    <tr>\n",
       "      <th>...</th>\n",
       "      <td>...</td>\n",
       "      <td>...</td>\n",
       "      <td>...</td>\n",
       "      <td>...</td>\n",
       "      <td>...</td>\n",
       "    </tr>\n",
       "    <tr>\n",
       "      <th>245</th>\n",
       "      <td>0.0</td>\n",
       "      <td>1.0</td>\n",
       "      <td>1.0</td>\n",
       "      <td>2.0</td>\n",
       "      <td>0.0</td>\n",
       "    </tr>\n",
       "    <tr>\n",
       "      <th>246</th>\n",
       "      <td>0.0</td>\n",
       "      <td>1.0</td>\n",
       "      <td>1.0</td>\n",
       "      <td>4.0</td>\n",
       "      <td>3.0</td>\n",
       "    </tr>\n",
       "    <tr>\n",
       "      <th>247</th>\n",
       "      <td>0.0</td>\n",
       "      <td>1.0</td>\n",
       "      <td>1.0</td>\n",
       "      <td>2.0</td>\n",
       "      <td>1.0</td>\n",
       "    </tr>\n",
       "    <tr>\n",
       "      <th>248</th>\n",
       "      <td>0.0</td>\n",
       "      <td>1.0</td>\n",
       "      <td>1.0</td>\n",
       "      <td>3.0</td>\n",
       "      <td>2.0</td>\n",
       "    </tr>\n",
       "    <tr>\n",
       "      <th>249</th>\n",
       "      <td>0.0</td>\n",
       "      <td>1.0</td>\n",
       "      <td>1.0</td>\n",
       "      <td>2.0</td>\n",
       "      <td>1.0</td>\n",
       "    </tr>\n",
       "  </tbody>\n",
       "</table>\n",
       "<p>250 rows × 5 columns</p>\n",
       "</div>"
      ],
      "text/plain": [
       "     count livebait camper  persons  child\n",
       "0      0.0      0.0    0.0      1.0    0.0\n",
       "1      0.0      1.0    1.0      1.0    0.0\n",
       "2      0.0      1.0    0.0      1.0    0.0\n",
       "3      0.0      1.0    1.0      2.0    1.0\n",
       "4      1.0      1.0    0.0      1.0    0.0\n",
       "..     ...      ...    ...      ...    ...\n",
       "245    0.0      1.0    1.0      2.0    0.0\n",
       "246    0.0      1.0    1.0      4.0    3.0\n",
       "247    0.0      1.0    1.0      2.0    1.0\n",
       "248    0.0      1.0    1.0      3.0    2.0\n",
       "249    0.0      1.0    1.0      2.0    1.0\n",
       "\n",
       "[250 rows x 5 columns]"
      ]
     },
     "execution_count": 4,
     "metadata": {},
     "output_type": "execute_result"
    }
   ],
   "source": [
    "fish_data = pd.read_stata(\n",
    "    \"data/fish.dta\",\n",
    "    columns=[\"count\", \"livebait\", \"camper\", \"persons\", \"child\"],\n",
    ")\n",
    "\n",
    "fish_data[\"livebait\"] = pd.Categorical(fish_data[\"livebait\"])\n",
    "fish_data[\"camper\"] = pd.Categorical(fish_data[\"camper\"])\n",
    "fish_data"
   ]
  },
  {
   "cell_type": "markdown",
   "id": "48cc637b",
   "metadata": {},
   "source": [
    "## 3a: Bambi scaled\n",
    "\n",
    "Write this model again in Bambi, but this time standardizing the persons column (explain why that would even make sense to standardize that column). Think about why it makes sense to scale this for the purposes "
   ]
  },
  {
   "cell_type": "markdown",
   "id": "b52a1423-f0f5-48d9-990f-28be1a67aa40",
   "metadata": {},
   "source": [
    "*Why would you want to scale, write your answer here*\n",
    "\n",
    "\n"
   ]
  },
  {
   "cell_type": "markdown",
   "id": "a0aa4964",
   "metadata": {},
   "source": [
    "## 3b: Write the same model in PyMC\n",
    "Standardize the persons column (this time you can't use Bambi to do it, you have to do it yourself).\n",
    "\n",
    "\n",
    "We've copied the Bambi model for you for reference:\n",
    "\n",
    "```python\n",
    "formula = bmb.Formula(\n",
    "    \"count ~ 0 + camper + persons + child\", # Poisson rate, mu\n",
    "    \"psi ~ child\"    # Probability of entering Poisson process, psi\n",
    ")\n",
    "common_priors = {\n",
    "    \"common\": bmb.Prior(\"Normal\", mu=0, sigma=0.5),\n",
    "    \"psi\": {\"common\": bmb.Prior(\"Normal\", mu=0, sigma=0.5)},\n",
    "}\n",
    "\n",
    "zip_fish_complex = bmb.Model(\n",
    "    formula, \n",
    "    fish_data, \n",
    "    family='zero_inflated_poisson',\n",
    "    priors=common_priors,\n",
    ")\n",
    "```"
   ]
  },
  {
   "cell_type": "code",
   "execution_count": 7,
   "id": "5f8a75e5",
   "metadata": {},
   "outputs": [],
   "source": [
    "# Google easiest way to normalize python. This also needs some changes to model structure"
   ]
  },
  {
   "cell_type": "markdown",
   "id": "b7f9395c",
   "metadata": {},
   "source": [
    "## 3c: Remake some plots!"
   ]
  },
  {
   "cell_type": "markdown",
   "id": "c82c98d3-85ed-4b48-964c-1b37cc7139aa",
   "metadata": {},
   "source": [
    "Remake these plots using your PyMC model from the previous question and only use ArviZ or Matplotlib to recreate the graphs BAMBI gives you. To recreate the Bambi plots, we need to compute predictions conditional on the covariate of interest, while keeping the other covariates constant. The way Bambi does that under the hood, in the way we've asked it in the lesson, is to __keep covariates _not present_ in `conditional` at their mean (if numbers) or mode (if categories)__. \n",
    "\n",
    "For the covariate(s) we want to condition on, Bambi creates a grid of equally spaced values between the minimum and maximum values of the specified explanatory variable.\n",
    "\n",
    "This exercise is a bit challenging, but it really forces you to think about the samples and how to summarsize them visually into something interesting. It'll also ensure you fully understand what is being plotted by Bambi."
   ]
  }
 ],
 "metadata": {
  "jupytext": {
   "formats": "ipynb,md"
  },
  "kernelspec": {
   "display_name": "ib_advanced_regression",
   "language": "python",
   "name": "ib_advanced_regression"
  },
  "language_info": {
   "codemirror_mode": {
    "name": "ipython",
    "version": 3
   },
   "file_extension": ".py",
   "mimetype": "text/x-python",
   "name": "python",
   "nbconvert_exporter": "python",
   "pygments_lexer": "ipython3",
   "version": "3.10.4"
  }
 },
 "nbformat": 4,
 "nbformat_minor": 5
}
