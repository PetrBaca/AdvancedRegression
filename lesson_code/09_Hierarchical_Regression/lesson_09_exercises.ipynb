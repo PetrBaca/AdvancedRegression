{
 "cells": [
  {
   "cell_type": "markdown",
   "id": "7ffec086-69de-4c82-ba74-41aed79932a3",
   "metadata": {
    "slideshow": {
     "slide_type": "slide"
    }
   },
   "source": [
    "# Hierarchical Regression Exercises"
   ]
  },
  {
   "cell_type": "code",
   "execution_count": 1,
   "id": "0ad8b5de-d7f0-43f4-9490-13ae13a3ec23",
   "metadata": {
    "hideCode": false,
    "hidePrompt": false,
    "slideshow": {
     "slide_type": "skip"
    }
   },
   "outputs": [],
   "source": [
    "from typing import List\n",
    "\n",
    "import arviz as az\n",
    "import matplotlib as mpl\n",
    "import matplotlib.lines as mlines\n",
    "import matplotlib.pyplot as plt\n",
    "import numpy as np\n",
    "import pandas as pd\n",
    "import pymc as pm\n",
    "import pytensor.tensor as pt\n",
    "import seaborn as sns\n",
    "from scipy.special import expit as invlogit"
   ]
  },
  {
   "cell_type": "code",
   "execution_count": 2,
   "id": "bf510bc7-62c9-437e-9f82-a5fbb53f4bcc",
   "metadata": {
    "hideCode": false,
    "hidePrompt": false,
    "slideshow": {
     "slide_type": "skip"
    }
   },
   "outputs": [],
   "source": [
    "plt.style.use(\"intuitivebayes.mplstyle\")\n",
    "\n",
    "mpl.rcParams[\"figure.dpi\"] = 120\n",
    "mpl.rcParams[\"figure.facecolor\"] = \"white\"\n",
    "mpl.rcParams[\"axes.spines.left\"] = False\n",
    "\n",
    "seed = sum(map(ord, \"Hierarchical Regression Exercises\"))\n",
    "rng = np.random.default_rng(seed)"
   ]
  },
  {
   "cell_type": "markdown",
   "id": "09b07f4f-d089-4571-ad64-0ff1f523b09a",
   "metadata": {},
   "source": [
    "## Exercise 1 [Medium]\n",
    "\n",
    "> Grasshopper models in PyMC\n",
    "\n",
    "***1. Recreate the centered hierarchical grasshoppers model in PyMC. In Bambi terms: `1 + (1|mother) + (1|date) + (1|location) + (1|date:location)`. How well does it converge?***"
   ]
  },
  {
   "cell_type": "code",
   "execution_count": 3,
   "id": "e19df29a-9225-409f-88f3-80ba6ce2dfc9",
   "metadata": {},
   "outputs": [],
   "source": [
    "# ADD CODE HERE"
   ]
  },
  {
   "cell_type": "markdown",
   "id": "b3941a94",
   "metadata": {},
   "source": [
    "***2. Reparametrize the previous model in a non-centered fashion. Is convergence better?***"
   ]
  },
  {
   "cell_type": "code",
   "execution_count": 11,
   "id": "e1a9754a-cfa7-4473-9d40-0acf2e24516f",
   "metadata": {},
   "outputs": [],
   "source": [
    "# ADD CODE HERE"
   ]
  },
  {
   "cell_type": "markdown",
   "id": "b0105346-c132-49ca-bc5b-e900367a8cd4",
   "metadata": {},
   "source": [
    "***3. Remove the main effects for `date` and `location` from the previous model. In bambi terms: `1 + (1|mother) + (1|date:location)`. Does convergence change?***"
   ]
  },
  {
   "cell_type": "code",
   "execution_count": 15,
   "id": "cbcce97c-2d06-47bf-a0bd-4ddfc0765512",
   "metadata": {},
   "outputs": [],
   "source": [
    "# ADD CODE HERE"
   ]
  },
  {
   "cell_type": "markdown",
   "id": "e02acbc9",
   "metadata": {},
   "source": [
    "***4. Recreate the 4-panel forest plot from the lesson, showing the probability of having the chromosome for each mom's descendants.***"
   ]
  },
  {
   "cell_type": "code",
   "execution_count": null,
   "id": "7085709a-bf83-4ecf-9b51-22ccf0d82ad0",
   "metadata": {},
   "outputs": [],
   "source": [
    "# ADD CODE HERE"
   ]
  },
  {
   "cell_type": "markdown",
   "id": "77066254",
   "metadata": {},
   "source": [
    "## Exercise 2 [Hard]\n",
    "\n",
    "> Prediction on new groups\n",
    "\n",
    "**Predict from the new groups from the lesson, but now with PyMC, using the last model you just defined above. Predict both the probability of getting the chromosome (`p`) and the number of grasshopper observed with the chromosome (`y`). Visualize your predictions with `az.plot_posterior`.**"
   ]
  },
  {
   "cell_type": "markdown",
   "id": "d9d3bbbf",
   "metadata": {},
   "source": [
    "### Observe new groups\n",
    "\n",
    "We'll look at the three representative cases from the lesson:\n",
    "\n",
    "1. A new observation with known location, N and mom, but **new date**.\n",
    "2. A new observation with known N and mom, but **new date and location**.\n",
    "3. A new observation with known date, location and N, but **new mom**."
   ]
  },
  {
   "cell_type": "code",
   "execution_count": 21,
   "id": "33448bb0",
   "metadata": {},
   "outputs": [
    {
     "data": {
      "text/html": [
       "<div>\n",
       "<style scoped>\n",
       "    .dataframe tbody tr th:only-of-type {\n",
       "        vertical-align: middle;\n",
       "    }\n",
       "\n",
       "    .dataframe tbody tr th {\n",
       "        vertical-align: top;\n",
       "    }\n",
       "\n",
       "    .dataframe thead th {\n",
       "        text-align: right;\n",
       "    }\n",
       "</style>\n",
       "<table border=\"1\" class=\"dataframe\">\n",
       "  <thead>\n",
       "    <tr style=\"text-align: right;\">\n",
       "      <th></th>\n",
       "      <th>date</th>\n",
       "      <th>location</th>\n",
       "      <th>n</th>\n",
       "      <th>mom</th>\n",
       "    </tr>\n",
       "  </thead>\n",
       "  <tbody>\n",
       "    <tr>\n",
       "      <th>0</th>\n",
       "      <td>4</td>\n",
       "      <td>5</td>\n",
       "      <td>7</td>\n",
       "      <td>68</td>\n",
       "    </tr>\n",
       "    <tr>\n",
       "      <th>1</th>\n",
       "      <td>5</td>\n",
       "      <td>6</td>\n",
       "      <td>22</td>\n",
       "      <td>23</td>\n",
       "    </tr>\n",
       "    <tr>\n",
       "      <th>2</th>\n",
       "      <td>2</td>\n",
       "      <td>3</td>\n",
       "      <td>18</td>\n",
       "      <td>88</td>\n",
       "    </tr>\n",
       "  </tbody>\n",
       "</table>\n",
       "</div>"
      ],
      "text/plain": [
       "   date  location   n  mom\n",
       "0     4         5   7   68\n",
       "1     5         6  22   23\n",
       "2     2         3  18   88"
      ]
     },
     "execution_count": 21,
     "metadata": {},
     "output_type": "execute_result"
    }
   ],
   "source": [
    "df_grasshopper[\"mom\"] = df_grasshopper.index\n",
    "new_data = df_grasshopper.loc[:2, [\"date\", \"location\", \"n\", \"mom\"]]\n",
    "\n",
    "# new date\n",
    "new_data.loc[0] = [\n",
    "    df_grasshopper.date.max() + 1,\n",
    "    np.random.choice(df_grasshopper.location),\n",
    "    np.random.choice(df_grasshopper.n),\n",
    "    np.random.choice(df_grasshopper.mom),\n",
    "]\n",
    "\n",
    "# new (date, location)\n",
    "new_data.loc[1] = [\n",
    "    df_grasshopper.date.max() + 2,\n",
    "    df_grasshopper.location.max() + 1,\n",
    "    np.random.choice(df_grasshopper.n),\n",
    "    np.random.choice(df_grasshopper.mom),\n",
    "]\n",
    "\n",
    "# new mom\n",
    "new_data.loc[2] = [\n",
    "    np.random.choice(df_grasshopper.date),\n",
    "    np.random.choice(df_grasshopper.location),\n",
    "    np.random.choice(df_grasshopper.n),\n",
    "    df_grasshopper.mom.max() + 1,\n",
    "]\n",
    "new_data"
   ]
  },
  {
   "cell_type": "markdown",
   "id": "d1b04858",
   "metadata": {},
   "source": [
    "We'll need indexing to do that with PyMC, so let's add the index of each observation to the dataframe, while making sure it's really obvious when an observation is coming from a previously unobserved group:"
   ]
  },
  {
   "cell_type": "code",
   "execution_count": 22,
   "id": "bc89a1fb",
   "metadata": {},
   "outputs": [
    {
     "data": {
      "text/html": [
       "<div>\n",
       "<style scoped>\n",
       "    .dataframe tbody tr th:only-of-type {\n",
       "        vertical-align: middle;\n",
       "    }\n",
       "\n",
       "    .dataframe tbody tr th {\n",
       "        vertical-align: top;\n",
       "    }\n",
       "\n",
       "    .dataframe thead th {\n",
       "        text-align: right;\n",
       "    }\n",
       "</style>\n",
       "<table border=\"1\" class=\"dataframe\">\n",
       "  <thead>\n",
       "    <tr style=\"text-align: right;\">\n",
       "      <th></th>\n",
       "      <th>date</th>\n",
       "      <th>location</th>\n",
       "      <th>n</th>\n",
       "      <th>mom</th>\n",
       "      <th>date_idx</th>\n",
       "      <th>location_idx</th>\n",
       "      <th>mom_idx</th>\n",
       "    </tr>\n",
       "  </thead>\n",
       "  <tbody>\n",
       "    <tr>\n",
       "      <th>0</th>\n",
       "      <td>4</td>\n",
       "      <td>5</td>\n",
       "      <td>7</td>\n",
       "      <td>68</td>\n",
       "      <td>-1000</td>\n",
       "      <td>4</td>\n",
       "      <td>68</td>\n",
       "    </tr>\n",
       "    <tr>\n",
       "      <th>1</th>\n",
       "      <td>5</td>\n",
       "      <td>6</td>\n",
       "      <td>22</td>\n",
       "      <td>23</td>\n",
       "      <td>-1000</td>\n",
       "      <td>-1000</td>\n",
       "      <td>23</td>\n",
       "    </tr>\n",
       "    <tr>\n",
       "      <th>2</th>\n",
       "      <td>2</td>\n",
       "      <td>3</td>\n",
       "      <td>18</td>\n",
       "      <td>88</td>\n",
       "      <td>1</td>\n",
       "      <td>2</td>\n",
       "      <td>-1000</td>\n",
       "    </tr>\n",
       "  </tbody>\n",
       "</table>\n",
       "</div>"
      ],
      "text/plain": [
       "   date  location   n  mom  date_idx  location_idx  mom_idx\n",
       "0     4         5   7   68     -1000             4       68\n",
       "1     5         6  22   23     -1000         -1000       23\n",
       "2     2         3  18   88         1             2    -1000"
      ]
     },
     "execution_count": 22,
     "metadata": {},
     "output_type": "execute_result"
    }
   ],
   "source": [
    "new_data[\"date_idx\"] = pd.Categorical(new_data.date, categories=dates).codes\n",
    "new_data[\"location_idx\"] = pd.Categorical(new_data.location, categories=locations).codes\n",
    "new_data[\"mom_idx\"] = pd.Categorical(new_data.mom, categories=COORDS[\"moms\"]).codes\n",
    "new_data = new_data.replace({-1: -1000})\n",
    "new_data"
   ]
  },
  {
   "cell_type": "markdown",
   "id": "be320bd8",
   "metadata": {},
   "source": [
    "Here, we've used `-1000` as a marker of novelty -- that way, we're sure indexing won't work if we mess up something. Now, that we have the data, we're ready to work on the predictions. \n",
    "\n",
    "As a reminder, here is how Bambi does it (which is what we used in the lesson): **each posterior sample for the new group is drawn from the posterior samples of a randomly selected _existing_ group**. In pseudo-code, if you want e.g 1000 samples for a new observation:\n",
    "\n",
    "```python\n",
    "new_obs_draws = [\n",
    "    posterior.isel(group_dim=i).isel(sample=np.random.choice(range(nbr_samples), size=1)) for i in np.random.choice(\n",
    "        range(nbr_of_existing_groups), size=1000\n",
    "    )\n",
    "]\n",
    "```\n",
    "\n",
    "Since different groups may be selected at each draw, the end result _represents the variation across existing groups_. That means that the uncertainty on our new groups will be higher than on our existing groups.\n",
    "\n",
    "But it's exactly as it should: we know less about this new group, which means... we're more uncertain about it!\n",
    "\n",
    "So now, how does it look like in code?\n",
    "\n",
    "***Hint: it might help to think about this like bootstraping, and look at something like `pytensor.tensor.random.choice`...***"
   ]
  },
  {
   "cell_type": "code",
   "execution_count": 23,
   "id": "19cf5613",
   "metadata": {},
   "outputs": [],
   "source": [
    "# ADD CODE HERE"
   ]
  },
  {
   "cell_type": "markdown",
   "id": "2cbfb96b-84ef-4865-937e-93dc8864213d",
   "metadata": {},
   "source": [
    "## Exercise 3 [Hard]\n",
    "\n",
    "> Using the 8-school model to predict two new schools\n",
    "\n",
    "This exercise will consolidate what you learned in the previous one. We will use the famous [eight schools model](https://www.pymc.io/projects/docs/en/stable/learn/core_notebooks/model_comparison.html) (from Section 5.5 of Gelman et al (2003)), which attempts to infer the effects of coaching on SAT scores of students from 8 schools.\n",
    "\n",
    "Below are the data, which include the observed treatment effects (`y`) and associated standard deviations (`sigma`) in the 8 schools:"
   ]
  },
  {
   "cell_type": "code",
   "execution_count": 28,
   "id": "e2745473-9440-4376-a744-64d6a5bddcce",
   "metadata": {},
   "outputs": [],
   "source": [
    "y = np.array([28, 8, -3, 7, -1, 1, 18, 12])\n",
    "sigma = np.array([15, 10, 16, 11, 9, 11, 10, 18])"
   ]
  },
  {
   "cell_type": "markdown",
   "id": "16c804df-79ae-47d0-9e6d-47eadf6eda15",
   "metadata": {},
   "source": [
    "### Hierarchical Model"
   ]
  },
  {
   "cell_type": "markdown",
   "id": "c99a595d-8dda-4c76-ab78-cb5daa6d25eb",
   "metadata": {},
   "source": [
    "***1. Fit a hierarchical model that allows for a random effect that partially pools the schools***"
   ]
  },
  {
   "cell_type": "code",
   "execution_count": 29,
   "id": "7f496dff-7f6a-4070-86be-23373101c461",
   "metadata": {},
   "outputs": [],
   "source": [
    "# ADD CODE HERE"
   ]
  },
  {
   "cell_type": "markdown",
   "id": "58489e6c-87a3-4540-af2a-21d81fdbf53a",
   "metadata": {},
   "source": [
    "***2. Use the model to simulate what a 9th and 10th schools might look like. Do it Bambi-style, and visualize your predictions like in the previous exercise.***\n",
    "\n",
    "Let's also assume we don't know exactly what the sigma is for the new schools, but that we can come up with a unique prior for each. The 9th school is believed to have a measurement error between 10 and 20. The 10th school, on the contrary, is said to have a relatively low measurement error, between 5 and 7."
   ]
  },
  {
   "cell_type": "code",
   "execution_count": 32,
   "id": "57f5662e-69e1-4bda-851d-7a7235f0c4fd",
   "metadata": {},
   "outputs": [],
   "source": [
    "# ADD CODE HERE"
   ]
  },
  {
   "cell_type": "markdown",
   "id": "e98d843f-2815-483b-838e-af894efa4fb9",
   "metadata": {},
   "source": [
    "***3. Now make the same predictions, but by using explicit priors for the new schools. Use a forest plot to visualize your predictions.***\n",
    "\n",
    "In addition to the priors from the previous question, let's also assume that the mean of school 10 is expected to be one point above the baseline. Write the model in such a way that you can also get posterior predictive draws from the initial 8 schools."
   ]
  },
  {
   "cell_type": "code",
   "execution_count": 35,
   "id": "d3a84427-096f-487a-8caa-de1ae875fb91",
   "metadata": {},
   "outputs": [],
   "source": [
    "# ADD CODE HERE"
   ]
  },
  {
   "cell_type": "markdown",
   "id": "fc85eeec-f720-49c6-bbba-478dcf23495e",
   "metadata": {},
   "source": [
    "## Exercise 4 [Easy]\n",
    "\n",
    "> Regression on diversity parameters\n",
    "\n",
    "***Run a regression on the diversity parameters of the socio-demographic components (`age`, `gender` and `gender:nat`) from the Estonian deluxe model. Analyze the convergence and interpret these diversity parameters. Post your plots, analyses and interpretation on the Discourse (thread \"[AR Course -- Lesson 9, Exercise 6 Discussion](https://community.intuitivebayes.com/)\").***\n",
    "\n",
    "***Bonus: Do it by writing a new function, that improves `hierarchical_zsn` at the same time***."
   ]
  },
  {
   "cell_type": "code",
   "execution_count": 38,
   "id": "2f328c30-d618-40c0-a44e-bd8e38309ddc",
   "metadata": {},
   "outputs": [],
   "source": [
    "# ADD CODE HERE"
   ]
  },
  {
   "cell_type": "markdown",
   "id": "68ab15fb-3bfb-4889-9380-7d98a928d63c",
   "metadata": {},
   "source": [
    "## Exercise 5 [Hard]\n",
    "\n",
    "> Interaction-only versus main effects\n",
    "\n",
    "***1. Write down a simplified version of the deluxe model, where the only predictor is the interaction of `gender` and `nationality`. In Bambi terms: `1 + gender:nat`. Don't change anything else. Sample from this model, and do a pair plot of the covariates for any given party.***"
   ]
  },
  {
   "cell_type": "code",
   "execution_count": 53,
   "id": "ee5e209c-3ae8-48bb-922b-6f7aa0f2db19",
   "metadata": {},
   "outputs": [],
   "source": [
    "# ADD CODE HERE"
   ]
  },
  {
   "cell_type": "markdown",
   "id": "a41a22ec-736a-4de4-8355-97109d82fb03",
   "metadata": {},
   "source": [
    "***2. Now, write down another simple version of the deluxe model, where the only predictors are the main effects of `gender` and `nationality`, as well as the interaction of both. In Bambi terms: `1 + gender + nat + gender:nat`. Sample from this model, and do a pair plot of the covariates for any given party. What are the differences? How can you explain them?***\n",
    "\n",
    "***Feel free to ask questions on Discourse about this -- it's a hard one ;)***"
   ]
  },
  {
   "cell_type": "code",
   "execution_count": 56,
   "id": "8c31cdcf-f8c2-4d2a-9326-fc050acfab5b",
   "metadata": {},
   "outputs": [],
   "source": [
    "# ADD CODE HERE"
   ]
  },
  {
   "cell_type": "markdown",
   "id": "af042920-d683-4ee5-8f7d-53bcd7073095",
   "metadata": {},
   "source": [
    "***3. Write down a final simpler version of the deluxe model, where the only predictors are the main effects of `age` and `education`, as well as the interaction of both. In Bambi terms: `1 + age + education + gender:education`. Sample from this model, and do a pair plot of the covariates for any given party. What are the differences? How can you explain them?***"
   ]
  },
  {
   "cell_type": "code",
   "execution_count": 62,
   "id": "77b7cd27-c4df-4e18-a58d-cc3e934fc119",
   "metadata": {},
   "outputs": [],
   "source": [
    "# ADD CODE HERE"
   ]
  }
 ],
 "metadata": {
  "kernelspec": {
   "display_name": "ib_advanced_regression",
   "language": "python",
   "name": "ib_advanced_regression"
  },
  "language_info": {
   "codemirror_mode": {
    "name": "ipython",
    "version": 3
   },
   "file_extension": ".py",
   "mimetype": "text/x-python",
   "name": "python",
   "nbconvert_exporter": "python",
   "pygments_lexer": "ipython3",
   "version": "3.10.4"
  }
 },
 "nbformat": 4,
 "nbformat_minor": 5
}
