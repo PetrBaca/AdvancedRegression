{
 "cells": [
  {
   "cell_type": "markdown",
   "metadata": {},
   "source": [
    "# Overdispersion Exercises"
   ]
  },
  {
   "cell_type": "markdown",
   "metadata": {},
   "source": [
    "You'll notice the exercises below are not as guided as exercises in previous lessons. There is not a unique way to successfully solve the exercises. You are encouraged to use all the resources available. Not only the content in this lesson, but also previous lessons, libraries' documentation, books, articles, Google search, etc.\n",
    "\n",
    "If you come up with a solution that differs from the official one, please share it with us! Discourse or private message are both good. It would be very nice your creative solutions 😄\n",
    "\n",
    "At the same time, if one of the exercises is more challenging than excepted or simply not clear, reach out so we can clarify it and make it better."
   ]
  },
  {
   "cell_type": "markdown",
   "metadata": {},
   "source": [
    "## Imports"
   ]
  },
  {
   "cell_type": "code",
   "execution_count": 1,
   "metadata": {},
   "outputs": [],
   "source": [
    "import arviz as az\n",
    "import bambi as bmb\n",
    "import matplotlib as mpl\n",
    "import matplotlib.pyplot as plt\n",
    "import numpy as np\n",
    "import pandas as pd\n",
    "import pymc as pm\n",
    "\n",
    "from scipy import stats"
   ]
  },
  {
   "cell_type": "code",
   "execution_count": 2,
   "metadata": {},
   "outputs": [],
   "source": [
    "%matplotlib inline\n",
    "plt.style.use(\"intuitivebayes.mplstyle\")\n",
    "\n",
    "mpl.rcParams[\"figure.dpi\"] = 120\n",
    "mpl.rcParams[\"figure.facecolor\"] = \"white\"\n",
    "mpl.rcParams[\"axes.spines.left\"] = False\n",
    "FIGSIZE = (7, 4)"
   ]
  },
  {
   "cell_type": "markdown",
   "metadata": {},
   "source": [
    "## Exercise 1 [Easy]\n",
    "\n",
    "**_Become a beta-binomial pro_**\n",
    "\n",
    "In the \"It's better to _look_ at it\" sub-section of the lesson we created a visualization where we compared the probability mass function of the binomial and beta-binomial distributions. \n",
    "\n",
    "1.  All of the distributions in the visualization have something in common, what's that? _Hint: Think about properties that are commonly discussed when characterizing distributions_.\n",
    "1.  Propose pairs of beta and beta-binomial distributions with the same mean but different variances and plot them. You can use the functions `beta_binomial_mean` and `beta_binomial_variance` provided in the lesson. Before performing the actual computation, think about which distribution will have a larger variance."
   ]
  },
  {
   "cell_type": "code",
   "execution_count": 3,
   "metadata": {},
   "outputs": [],
   "source": [
    "def beta_binomial_mean(n, alpha, beta):\n",
    "    return (n * alpha) / (alpha + beta)\n",
    "\n",
    "def beta_binomial_variance(n, alpha, beta):\n",
    "    t1 = (n * alpha * beta) / (alpha + beta) ** 2\n",
    "    t2 = (alpha + beta + n) / (alpha + beta + 1)\n",
    "    return t1 * t2"
   ]
  },
  {
   "cell_type": "markdown",
   "metadata": {},
   "source": [
    "**_Your answer here_**"
   ]
  },
  {
   "cell_type": "markdown",
   "metadata": {},
   "source": [
    "## Exercise 2 [Easy]\n",
    "\n",
    "**_Plot the function $f(\\pi) = n \\times \\pi \\times (1 - \\pi)$ for values of $\\pi \\in [0, 1]$ and some fixed values of $n$ of your choice._**\n",
    "\n",
    "1. What's the maximum value of the function $f(\\pi)$? And the minimum?\n",
    "2. What does it mean for the binomial distribution?"
   ]
  },
  {
   "cell_type": "markdown",
   "metadata": {},
   "source": [
    "_Your answer here_"
   ]
  },
  {
   "cell_type": "markdown",
   "metadata": {},
   "source": [
    "## Exercise 3 [Easy]\n",
    "\n",
    "**_Compute probabilities based on the observed data and the fitted Poisson distribution._**\n",
    "\n",
    "In this exercise, use the values in the file `toy_counts.csv` that was introduced in the lesson.\n",
    "\n",
    "1. Find the maximum likelihood estimate of $\\lambda$ assuming $X \\sim \\mathrm{Poisson}(\\lambda)$. _Hint: have a second look at the lesson if you need a refresher on how to do this. Feel free to search on the web for help too._\n",
    "2. Compute the following probabilities:\n",
    "\n",
    "$$\n",
    "\\begin{aligned}\n",
    "& P(X \\le 2) \\\\\n",
    "& P(X > 10)  \\\\\n",
    "& P(4 \\le X \\le 8)\n",
    "\\end{aligned}\n",
    "$$\n",
    "\n",
    "You can use the `.pmf()` method in SciPy's random variables, but you could also implement it yourself.\n",
    "\n",
    "3. Are there any substantial differences? Why?"
   ]
  },
  {
   "cell_type": "markdown",
   "metadata": {},
   "source": [
    "**_Your answer here_**"
   ]
  },
  {
   "cell_type": "markdown",
   "metadata": {},
   "source": [
    "## Exercise 4 [Medium]\n",
    "\n",
    "**_Modeling of binomial outcomes with PyMC._**\n",
    "\n",
    "In this exercise we're going to revisit the UC Berkeley admissions problem with PyMC.\n",
    "\n",
    "1.  Reproduce the binomial model for graduate admissions using PyMC.\n",
    "2.  Compute the coverage of the 95% HDI of the posterior predictive distribution.\n",
    "3.  What are your conclusions about this model?\n",
    "4.  Now, consider both gender and department as a covariates and repeat points 1 to 3. Compare the estimation of the gender coefficient between the two models and conclude."
   ]
  },
  {
   "cell_type": "markdown",
   "metadata": {},
   "source": [
    "**_Your answer here_**"
   ]
  },
  {
   "cell_type": "markdown",
   "metadata": {},
   "source": [
    "## Exercise 5 [Medium]\n",
    "\n",
    "**_Comparing Poisson vs negative binomial predictive distributions._**\n",
    "\n",
    "In the beginning of the lesson we introduced the fish species diversity dataset. There we create a model (actually two models) to understand the association between the size of a lake and the number of species in it and be able to predict the number the number of species given a lake size.\n",
    "\n",
    "Now it's time to do some work on that dataset with our favorite probabilistic programming language: PyMC.\n",
    "\n",
    "1. Reproduce the Poisson regression model with PyMC and get the predictive distribution of the number of species in a lake of 1000 squared meters.\n",
    "2. Same as #1, but using the negative binomial regression model.\n",
    "3. Compare the predictive distributions obtained in #1 and #2. Compare their means and variances and explain the result.\n",
    "4. How would you do the same in Bambi?"
   ]
  },
  {
   "cell_type": "markdown",
   "metadata": {},
   "source": [
    "**_Your answer here_**"
   ]
  },
  {
   "cell_type": "markdown",
   "metadata": {},
   "source": [
    "## Exercise 6 [Medium/Hard]\n",
    "\n",
    "**_Analysis of trout eggs._**\n",
    "\n",
    "The `troutegg.csv` file contains the **troutegg** dataset, which contains information about the survival of trout eggs according to different times and locations.  \n",
    "\n",
    "Boxes of trout eggs were buried at 5 different stream locations and retrieved at 4 different times, and the number of surviving eggs was recorded.\n",
    "\n",
    "The data frame contains 20 observations with the following 4 variables:\n",
    "\n",
    "* **survive** the number of surviving eggs.\n",
    "* **total** the number of eggs in the box.\n",
    "* **location** the location in the stream (1, 2, 3, 4, and 5).\n",
    "* **period** the number of weeks after placement that the box was withdrawn (4, 7, 8, and 11).\n",
    "\n",
    "**Note**: Consider both `location` and `period` as categoric covariates.\n",
    "\n",
    "1.  Explore the dataset. Do you spot any challenges?\n",
    "2.  Use Bambi to:\n",
    "    1. Build two binomial models: one with additive and other with interaction effects\n",
    "    1. Build two beta binomial models: one with additive and other with interaction effects\n",
    "3.  What is the estimated survival probability for the following cases in the dataset? Estimate the posterior with the four models and plot all of them together using a forest plot.\n",
    "    * `location == 4` and `period == 4`\n",
    "    * `location == 4` and `period == 8`\n",
    "    * `location == 5` and `period == 11`\n",
    "4.  For the cases listed in #3, get and visualize the predictive distribution along the observed number of eggs that survive.\n",
    "5.  Which model do you think makes most sense? List pros and cons of both models.\n",
    "\n",
    "In part 2, **it's OK to use default priors** as prior elicitation is not the goal of the exercise."
   ]
  },
  {
   "cell_type": "markdown",
   "metadata": {},
   "source": [
    "**_Your answer here_**"
   ]
  },
  {
   "cell_type": "markdown",
   "metadata": {},
   "source": [
    "## Exercise 7 [Hard]\n",
    "\n",
    "**_Revisiting the fish species dataset with PyMC - Part 2._**\n",
    "\n",
    "Consider the Poisson regression model that we have already built:\n",
    "\n",
    "$$\n",
    "\\begin{aligned}\n",
    "\\text{species}_i &\\sim \\text{Poisson}(\\mu_i) \\\\\n",
    "\\mu_i &= \\exp[\\beta_0 + \\beta_1 \\log(\\text{area}_i)] \\\\\n",
    "\\beta_0 &\\sim \\text{Normal} \\\\\n",
    "\\beta_1 &\\sim \\text{Normal}\n",
    "\\end{aligned}\n",
    "$$\n",
    "\n",
    "\n",
    "1. What does the intercept mean in the  model? Does it make sense to interpret it?\n",
    "2. What transformation can be performed to the lake area in order to make the intercept $\\beta_0$ be related to the number of species of a lake of average size?\n",
    "3. What is needed to make the intercept $\\beta_0$ relate to the number of species of a lake of 1000 squared kilometers?\n",
    "4. Write and fit both models in PyMC. Then:\n",
    "    1.  Using the first model, predict the mean number of species for a lake of 1000 squared kilometers.\n",
    "    2.  Using the second model, predict the mean number of species for a lake of average size.\n",
    "    3.  Compare these values with the posterior mean of $\\beta_0$ in both models.\n",
    "5.  What can you conclude?"
   ]
  },
  {
   "cell_type": "markdown",
   "metadata": {},
   "source": [
    "**_Your answer here_**"
   ]
  },
  {
   "cell_type": "markdown",
   "metadata": {},
   "source": [
    "## Exercise 8 [Hard]\n",
    "\n",
    "**_The non-identifiability playground._**\n",
    "\n",
    "Consider the additive trout eggs model created in a previous exercise.\n",
    "\n",
    "Below we propose several model implementations that are not completely correct.\n",
    "\n",
    "Explain what is the problem in each of the cases and propose at least one solution (written in PyMC).\n",
    "\n",
    "It can be useful to revisit all the content about parameter non-identifiability in the course."
   ]
  },
  {
   "cell_type": "code",
   "execution_count": 53,
   "metadata": {},
   "outputs": [],
   "source": [
    "# Setup\n",
    "df_eggs = pd.read_csv(\"data/trout_egg.csv\")\n",
    "survive = df_eggs[\"survive\"].to_numpy()\n",
    "total = df_eggs[\"total\"].to_numpy()\n",
    "location, location_idx = np.unique(df_eggs[\"location\"], return_inverse=True)\n",
    "period, period_idx = np.unique(df_eggs[\"period\"], return_inverse=True)\n",
    "\n",
    "coords = {\n",
    "    \"location\": location,\n",
    "    \"period\": period\n",
    "}"
   ]
  },
  {
   "cell_type": "markdown",
   "metadata": {},
   "source": [
    "**Model 1**"
   ]
  },
  {
   "cell_type": "code",
   "execution_count": 54,
   "metadata": {},
   "outputs": [],
   "source": [
    "with pm.Model(coords=coords) as model_1:\n",
    "    intercept = pm.Normal(\"intercept\")\n",
    "    b_location = pm.Normal(\"b_location\", dims=\"location\")\n",
    "    b_period = pm.Normal(\"b_period\", dims=\"period\")\n",
    "    mu = intercept + b_location[location_idx] + b_period[period_idx]\n",
    "    p = pm.math.invlogit(mu)\n",
    "    pm.Binomial(\"survive\", p=p, n=total, observed=survive)"
   ]
  },
  {
   "cell_type": "markdown",
   "metadata": {},
   "source": [
    "**Model 2**"
   ]
  },
  {
   "cell_type": "code",
   "execution_count": 55,
   "metadata": {},
   "outputs": [],
   "source": [
    "with pm.Model(coords=coords) as model_2:\n",
    "    b_location = pm.Normal(\"b_location\", dims=\"location\")\n",
    "    b_period = pm.Normal(\"b_period\", dims=\"period\")\n",
    "    mu = b_location[location_idx] + b_period[period_idx]\n",
    "    p = pm.math.invlogit(mu)\n",
    "    pm.Binomial(\"survive\", p=p, n=total, observed=survive)"
   ]
  },
  {
   "cell_type": "markdown",
   "metadata": {},
   "source": [
    "**Model 3**"
   ]
  },
  {
   "cell_type": "code",
   "execution_count": 56,
   "metadata": {},
   "outputs": [],
   "source": [
    "with pm.Model(coords=coords) as model_3:\n",
    "    intercept = pm.Normal(\"intercept\")\n",
    "    b_location = pm.ZeroSumNormal(\"b_location\", dims=\"location\")\n",
    "    b_period = pm.Normal(\"b_period\", dims=\"period\")\n",
    "    mu = intercept + b_location[location_idx] + b_period[period_idx]\n",
    "    p = pm.math.invlogit(mu)\n",
    "    pm.Binomial(\"survive\", p=p, n=total, observed=survive)"
   ]
  },
  {
   "cell_type": "markdown",
   "metadata": {},
   "source": [
    "**Model 4**"
   ]
  },
  {
   "cell_type": "code",
   "execution_count": 57,
   "metadata": {},
   "outputs": [],
   "source": [
    "with pm.Model(coords=coords) as model_4:\n",
    "    intercept = pm.Normal(\"intercept\")\n",
    "    b_location = pm.Normal(\"b_location\", dims=\"location\")\n",
    "    b_period = pm.ZeroSumNormal(\"b_period\", dims=\"period\")\n",
    "    mu = intercept + b_location[location_idx] + b_period[period_idx]\n",
    "    p = pm.math.invlogit(mu)\n",
    "    pm.Binomial(\"survive\", p=p, n=total, observed=survive)"
   ]
  },
  {
   "cell_type": "markdown",
   "metadata": {},
   "source": [
    "**_Your answer here_**"
   ]
  }
 ],
 "metadata": {
  "kernelspec": {
   "display_name": "Python 3 (ipykernel)",
   "language": "python",
   "name": "python3"
  },
  "language_info": {
   "codemirror_mode": {
    "name": "ipython",
    "version": 3
   },
   "file_extension": ".py",
   "mimetype": "text/x-python",
   "name": "python",
   "nbconvert_exporter": "python",
   "pygments_lexer": "ipython3",
   "version": "3.10.4"
  }
 },
 "nbformat": 4,
 "nbformat_minor": 2
}
