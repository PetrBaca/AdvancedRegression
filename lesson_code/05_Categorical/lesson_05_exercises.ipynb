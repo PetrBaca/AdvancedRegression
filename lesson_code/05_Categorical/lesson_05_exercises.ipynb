{
 "cells": [
  {
   "cell_type": "markdown",
   "id": "8fe50958-02c5-42cd-a037-6c52614f80c1",
   "metadata": {
    "slideshow": {
     "slide_type": "slide"
    }
   },
   "source": [
    "# Categorical Regression Exercises\n",
    "\n",
    "Because life isn't always binary -- but you always need to exercise"
   ]
  },
  {
   "cell_type": "code",
   "execution_count": 1,
   "id": "f139e753-348b-40f6-8d60-6468d4ddd5d8",
   "metadata": {
    "hideCode": false,
    "hidePrompt": false,
    "slideshow": {
     "slide_type": "skip"
    }
   },
   "outputs": [],
   "source": [
    "from typing import Dict, Tuple\n",
    "\n",
    "import arviz as az\n",
    "import bambi as bmb\n",
    "import matplotlib as mpl\n",
    "import matplotlib.pyplot as plt\n",
    "import numpy as np\n",
    "import pandas as pd\n",
    "import pymc as pm\n",
    "import pytensor.tensor as pyt\n",
    "import xarray as xr\n",
    "from scipy import special"
   ]
  },
  {
   "cell_type": "code",
   "execution_count": 2,
   "id": "4f4512d5-8c68-4aa2-a8c1-9f3cca01dfb8",
   "metadata": {
    "hideCode": false,
    "hidePrompt": false,
    "slideshow": {
     "slide_type": "skip"
    }
   },
   "outputs": [],
   "source": [
    "plt.style.use(\"intuitivebayes.mplstyle\")\n",
    "\n",
    "mpl.rcParams[\"figure.dpi\"] = 120\n",
    "mpl.rcParams[\"figure.facecolor\"] = \"white\"\n",
    "mpl.rcParams[\"axes.spines.left\"] = False"
   ]
  },
  {
   "cell_type": "markdown",
   "id": "f209d539-ef90-4151-b642-d17e0aa42d0a",
   "metadata": {},
   "source": [
    "## Exercise 1 [Easy] \n",
    "\n",
    "Let's get more comfortable with the ZSN model. In the PyMC model for topping modeling, change the priors on the standard deviations of the ZSN. How does this change the prior predictive plot and sampling time?*\n",
    "\n",
    "__Post your answers with screenshots [in the Discourse](https://community.intuitivebayes.com/) thread \"AR Course -- Lesson 5, Exercise 1 Solution\"__*, and compare them to the other students'."
   ]
  },
  {
   "cell_type": "code",
   "execution_count": 1,
   "id": "295df5ce-622f-4446-8bbd-d045d7fde451",
   "metadata": {
    "hideCode": false,
    "hidePrompt": false,
    "slideshow": {
     "slide_type": "skip"
    }
   },
   "outputs": [],
   "source": [
    "# ADD CODE HERE"
   ]
  },
  {
   "cell_type": "markdown",
   "id": "4401364e-ebb2-403c-8ef5-e660feedb7b2",
   "metadata": {},
   "source": [
    "## Exercise 2 [Medium] \n",
    "\n",
    "In the same model that you modified in the previous exercise, now remove `zerosum_axes=2` on the categorical predictors (`β_nationality`). How did that impact sampling time? Do you have an idea why?\n",
    "\n",
    "_Hint: a pair plot of two parameter types and for each topping will be useful..._"
   ]
  },
  {
   "cell_type": "code",
   "execution_count": 1,
   "id": "20e94d78-9ad6-4ed9-bc78-851fda78ef79",
   "metadata": {
    "hideCode": false,
    "hidePrompt": false,
    "slideshow": {
     "slide_type": "skip"
    }
   },
   "outputs": [],
   "source": [
    "# ADD CODE HERE"
   ]
  },
  {
   "cell_type": "markdown",
   "id": "522cf1ed-c369-437c-842e-982333300450",
   "metadata": {},
   "source": [
    "## Exercise 3 [Hard]\n",
    "Now let's modify the Estonian model. We're going to extend it in this exercise, adding extra predictors.\n",
    "\n",
    "### Part 1\n",
    "\n",
    "- In the PyMC and Bambi models for Estonian data:\n",
    "    - *Add `age` and `gender` as predictors*\n",
    "    - *Add an interaction on `age` and `education`*\n",
    "    - *Do a trace plot of the posterior sample. Do you see any red flag? How does convergence look like to you? Do you think we should do other diagnostics?*\n",
    "    \n",
    "- Only in the PyMC model, add an `assert` clause to make sure the array of probabilities is close to 1"
   ]
  },
  {
   "cell_type": "code",
   "execution_count": 1,
   "id": "e0c1ebfc-801a-4c27-9180-9dbd767272a5",
   "metadata": {
    "hideCode": false,
    "hidePrompt": false,
    "slideshow": {
     "slide_type": "skip"
    }
   },
   "outputs": [],
   "source": [
    "# ADD CODE HERE"
   ]
  },
  {
   "cell_type": "markdown",
   "id": "198a76ee-62f2-459b-83f7-a530d3369989",
   "metadata": {
    "tags": []
   },
   "source": [
    "### Part 2\n",
    "\n",
    "Look at the following prior and posterior retrodictive plots, and assign the bottom line and top line to its respective model (PyMC or Bambi). Explain your choice.\n",
    "\n",
    "*More globally, what do you think of those checks? Do they look good to you?*"
   ]
  },
  {
   "cell_type": "code",
   "execution_count": 1,
   "id": "572daf49-8761-4940-8738-bffd24208417",
   "metadata": {
    "hideCode": false,
    "hidePrompt": false,
    "slideshow": {
     "slide_type": "skip"
    }
   },
   "outputs": [],
   "source": [
    "# ADD CODE HERE"
   ]
  },
  {
   "cell_type": "markdown",
   "id": "26f0a1c1-d262-426f-b205-bd94cdac9ddd",
   "metadata": {},
   "source": [
    "## Exercise 4 [Hard]\n",
    "Now, let's work on other parts of the workflow, other than the model itself.\n",
    "\n",
    "### Part 1\n",
    "\n",
    "Update the `compute_post_p` and `plot_post_p` functions from the lesson, to reflect the latest model above."
   ]
  },
  {
   "cell_type": "code",
   "execution_count": 1,
   "id": "1cc7c754-866d-488a-9989-fe2e8e906aee",
   "metadata": {
    "hideCode": false,
    "hidePrompt": false,
    "slideshow": {
     "slide_type": "skip"
    }
   },
   "outputs": [],
   "source": [
    "# ADD CODE HERE"
   ]
  },
  {
   "cell_type": "markdown",
   "id": "8b09cec2-8620-4885-b8dc-08abdc4d5719",
   "metadata": {},
   "source": [
    "### Part 2\n",
    "\n",
    "Let's see how age correlates to voting preferences, all else being equal. **For the PyMC model**, plot each party's posterior intention to vote for highly educated non-Estonian females, first for the 25-34 age group, then for the 75+ group. Do you already see differences?"
   ]
  },
  {
   "cell_type": "code",
   "execution_count": 1,
   "id": "7077082b-df20-4be5-8420-aa6b19b80a22",
   "metadata": {
    "hideCode": false,
    "hidePrompt": false,
    "slideshow": {
     "slide_type": "skip"
    }
   },
   "outputs": [],
   "source": [
    "# ADD CODE HERE"
   ]
  },
  {
   "cell_type": "markdown",
   "id": "c61b2511-32fd-4213-a81e-d038d6c13df7",
   "metadata": {},
   "source": [
    "### Part 3\n",
    "\n",
    "Now, use a forest plot to compare those two groups' voting intentions. What are the main differences?"
   ]
  },
  {
   "cell_type": "code",
   "execution_count": 1,
   "id": "6de8892f-3ec4-4237-8e54-6fbf4d733a7f",
   "metadata": {
    "hideCode": false,
    "hidePrompt": false,
    "slideshow": {
     "slide_type": "skip"
    }
   },
   "outputs": [],
   "source": [
    "# ADD CODE HERE"
   ]
  },
  {
   "cell_type": "markdown",
   "id": "109b7281-a1d1-4381-a068-2eb2d9cc0f6d",
   "metadata": {},
   "source": [
    "### Part 4\n",
    "\n",
    "Do questions 2. and 3. again, but this time for the Bambi model."
   ]
  },
  {
   "cell_type": "code",
   "execution_count": 1,
   "id": "0d259bcc-2617-4e2b-bb15-b86b67ab693b",
   "metadata": {
    "hideCode": false,
    "hidePrompt": false,
    "slideshow": {
     "slide_type": "skip"
    }
   },
   "outputs": [],
   "source": [
    "# ADD CODE HERE"
   ]
  },
  {
   "cell_type": "markdown",
   "id": "b0df4a9c-818f-403e-8977-9cc07001646d",
   "metadata": {},
   "source": [
    "### Part 5\n",
    "\n",
    "Use a forest plot again, but this time to compare the PyMC model's results to the Bambi model's. Your plot should therefore have four different estimates per party. Interpret this plot: do you see any difference in the models' posteriors?"
   ]
  },
  {
   "cell_type": "code",
   "execution_count": 1,
   "id": "b1d20414-cec2-4fbd-b5df-fdb7da65ad6d",
   "metadata": {
    "hideCode": false,
    "hidePrompt": false,
    "slideshow": {
     "slide_type": "skip"
    }
   },
   "outputs": [],
   "source": [
    "# ADD CODE HERE"
   ]
  },
  {
   "cell_type": "markdown",
   "id": "704029cb-c0c0-490c-808f-54d999f142c5",
   "metadata": {},
   "source": [
    "Well done on completing these exercises -- they certainly were not easy! Again, if everything doesn't click from the first time, it's totally expected. Let it sink in. And come back to the lesson and these exercises in a few weeks. You'll see that you understood more than you remembered, and it'll be easier for you to identify the areas that are still blurry.\n",
    "\n",
    "Actually, to get you even more on your way, I encourage you to do the bonus exercise below."
   ]
  },
  {
   "cell_type": "markdown",
   "id": "0e22698b-e29d-40ab-ac0e-6bbbd0002b14",
   "metadata": {},
   "source": [
    "## Bonus Exercise [Hard]\n",
    "\n",
    "This one is next level. Not because the model is harder than the one you just did (if pressed, I'd say it's easier), but because you're gonna be as close to a real-life modeling situation as is possible in a course. You're gonna have to load the data, explore it, and follow the whole Bayesian workflow -- _all by yourself_. This is a crucial skill, because we wanna teach you how to model, not how to follow instructions. So what do you say? You ready?\n",
    "\n",
    "Of course you are! Load up the 2016 US election dataset Ravin showed you in a previous lesson:\n",
    "\n",
    "```python\n",
    "bmb.load_data(\"ANES\")\n",
    "```\n",
    "\n",
    "Now, **model each subject's voting intention, based on their age and party identification**. Follow the Bayesian workflow, and apply everything you've learned in this lesson and exercises. Make sure to **[check out the Discourse](https://community.intuitivebayes.com/)** if you have any questions, and also **post your answers there** (with code and plots) -- do it in the **thread \"AR Course -- Lesson 5, Bonus Exercise Solution\"**, and compare them to the other students'.\n",
    "\n",
    "Now is your time to shine bright like diamond! Yes it's gonna be challenging, but we know you can do it -- we wouldn't ask you to otherwise. \n",
    "\n",
    "PyMCheers & Keep On Sampling 🖖"
   ]
  },
  {
   "cell_type": "code",
   "execution_count": 1,
   "id": "51256409-673c-4fc4-ae83-a09531811c16",
   "metadata": {
    "hideCode": false,
    "hidePrompt": false,
    "slideshow": {
     "slide_type": "skip"
    }
   },
   "outputs": [],
   "source": [
    "# ADD CODE HERE"
   ]
  }
 ],
 "metadata": {
  "kernelspec": {
   "display_name": "ib_advanced_regression",
   "language": "python",
   "name": "ib_advanced_regression"
  },
  "language_info": {
   "codemirror_mode": {
    "name": "ipython",
    "version": 3
   },
   "file_extension": ".py",
   "mimetype": "text/x-python",
   "name": "python",
   "nbconvert_exporter": "python",
   "pygments_lexer": "ipython3",
   "version": "3.10.4"
  }
 },
 "nbformat": 4,
 "nbformat_minor": 5
}
