{
 "cells": [
  {
   "cell_type": "markdown",
   "metadata": {},
   "source": [
    "# Overdispersion Exercises"
   ]
  },
  {
   "cell_type": "markdown",
   "metadata": {},
   "source": [
    "## Exercise 1 [Easy][Medium][Hard]\n",
    "\n",
    "**1. _Reproduce the following Bambi model in PyMC using the fish species diversity dataset._**\n",
    "\n",
    "```python\n",
    "priors = {\n",
    "    \"Intercept\": bmb.Prior(\"Normal\", mu=3.3, sigma=1), \n",
    "    \"log(lake_area)\": bmb.Prior(\"Normal\", mu=0, sigma=1)\n",
    "}\n",
    "model = bmb.Model(\"fish ~ 1 + log(lake_area)\", data, priors=priors, family=\"poisson\")\n",
    "```"
   ]
  },
  {
   "cell_type": "markdown",
   "metadata": {},
   "source": [
    "add something else to do with this model"
   ]
  },
  {
   "cell_type": "markdown",
   "metadata": {},
   "source": [
    "2. Get the posterior predictive distribution for a lake with a certain area using both the Poisson and the Negative Binomial models. Compare their variances.\n",
    "3. Create the binomial model for the admissions dataset including the department variable. First do it with Bambi and then with PyMC. Consider both additive and interaction effects models."
   ]
  },
  {
   "cell_type": "markdown",
   "metadata": {},
   "source": [
    "4. Compute probabilities based on the empiical data and the fitted Poisson distribution. Report on the differences.\n",
    "\n",
    "```python\n",
    "df_toy_count = pd.read_csv(\"data/toy_counts.csv\")\n",
    "poisson_mu = 6.108\n",
    "poisson_pmf = stats.poisson(mu=poisson_mu).pmf(values)\n",
    "```\n",
    "\n",
    "5. Plot the function $f(\\pi) = n \\times \\pi \\times (1 - \\pi)$ for values of $\\pi \\in [0, 1]$ and some fixed values of $n$. What's the maximum? And the minimum? What does it imply for the binomial distribution? "
   ]
  },
  {
   "cell_type": "markdown",
   "metadata": {},
   "source": [
    "6. Compute the empirical coverage of the posterior predictive distribution using the binomial model and the UC Berkeley dataset."
   ]
  },
  {
   "cell_type": "markdown",
   "metadata": {},
   "source": [
    "---\n",
    "\n",
    "* Explore the `center_predictors` argument in Bambi"
   ]
  },
  {
   "cell_type": "markdown",
   "metadata": {},
   "source": []
  }
 ],
 "metadata": {
  "language_info": {
   "name": "python"
  }
 },
 "nbformat": 4,
 "nbformat_minor": 2
}
